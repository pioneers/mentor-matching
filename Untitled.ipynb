{
 "cells": [
  {
   "cell_type": "markdown",
   "metadata": {},
   "source": [
    "# Mentor Matching Tool"
   ]
  },
  {
   "cell_type": "code",
   "execution_count": 206,
   "metadata": {},
   "outputs": [],
   "source": [
    "import numpy as np\n",
    "import cvxpy as cvx\n",
    "import pandas as pd"
   ]
  },
  {
   "cell_type": "markdown",
   "metadata": {},
   "source": [
    "# Data Importation"
   ]
  },
  {
   "cell_type": "code",
   "execution_count": 207,
   "metadata": {},
   "outputs": [],
   "source": [
    "mentor_names = [\"Alan\", \"Kirsten\", \"Sophia\"]\n",
    "school_names = [\"Hayward\", \"Albany\"]\n",
    "time_slot_names = [\"1-2\", \"2-3\", \"3-4\", \"4-5\"]\n",
    "num_mentors = len(mentor_names)\n",
    "num_schools = len(school_names)\n",
    "num_time_slots = len(time_slot_names)"
   ]
  },
  {
   "cell_type": "code",
   "execution_count": 208,
   "metadata": {},
   "outputs": [
    {
     "data": {
      "text/html": [
       "<div>\n",
       "<style scoped>\n",
       "    .dataframe tbody tr th:only-of-type {\n",
       "        vertical-align: middle;\n",
       "    }\n",
       "\n",
       "    .dataframe tbody tr th {\n",
       "        vertical-align: top;\n",
       "    }\n",
       "\n",
       "    .dataframe thead th {\n",
       "        text-align: right;\n",
       "    }\n",
       "</style>\n",
       "<table border=\"1\" class=\"dataframe\">\n",
       "  <thead>\n",
       "    <tr style=\"text-align: right;\">\n",
       "      <th></th>\n",
       "      <th>1-2</th>\n",
       "      <th>2-3</th>\n",
       "      <th>3-4</th>\n",
       "      <th>4-5</th>\n",
       "    </tr>\n",
       "  </thead>\n",
       "  <tbody>\n",
       "    <tr>\n",
       "      <th>Hayward</th>\n",
       "      <td>1</td>\n",
       "      <td>1</td>\n",
       "      <td>0</td>\n",
       "      <td>0</td>\n",
       "    </tr>\n",
       "    <tr>\n",
       "      <th>Albany</th>\n",
       "      <td>0</td>\n",
       "      <td>1</td>\n",
       "      <td>1</td>\n",
       "      <td>1</td>\n",
       "    </tr>\n",
       "  </tbody>\n",
       "</table>\n",
       "</div>"
      ],
      "text/plain": [
       "         1-2  2-3  3-4  4-5\n",
       "Hayward    1    1    0    0\n",
       "Albany     0    1    1    1"
      ]
     },
     "execution_count": 208,
     "metadata": {},
     "output_type": "execute_result"
    }
   ],
   "source": [
    "# Each row is a school\n",
    "# Each column is a time slot\n",
    "school_availability = np.array([\n",
    "    [1, 1, 0, 0],\n",
    "    [0, 1, 1, 1],\n",
    "])\n",
    "\n",
    "pd.DataFrame(school_availability, index=school_names, columns=time_slot_names)"
   ]
  },
  {
   "cell_type": "code",
   "execution_count": 209,
   "metadata": {},
   "outputs": [
    {
     "data": {
      "text/html": [
       "<div>\n",
       "<style scoped>\n",
       "    .dataframe tbody tr th:only-of-type {\n",
       "        vertical-align: middle;\n",
       "    }\n",
       "\n",
       "    .dataframe tbody tr th {\n",
       "        vertical-align: top;\n",
       "    }\n",
       "\n",
       "    .dataframe thead th {\n",
       "        text-align: right;\n",
       "    }\n",
       "</style>\n",
       "<table border=\"1\" class=\"dataframe\">\n",
       "  <thead>\n",
       "    <tr style=\"text-align: right;\">\n",
       "      <th></th>\n",
       "      <th>1-2</th>\n",
       "      <th>2-3</th>\n",
       "      <th>3-4</th>\n",
       "      <th>4-5</th>\n",
       "    </tr>\n",
       "  </thead>\n",
       "  <tbody>\n",
       "    <tr>\n",
       "      <th>Alan</th>\n",
       "      <td>1</td>\n",
       "      <td>1</td>\n",
       "      <td>1</td>\n",
       "      <td>1</td>\n",
       "    </tr>\n",
       "    <tr>\n",
       "      <th>Kirsten</th>\n",
       "      <td>1</td>\n",
       "      <td>1</td>\n",
       "      <td>1</td>\n",
       "      <td>0</td>\n",
       "    </tr>\n",
       "    <tr>\n",
       "      <th>Sophia</th>\n",
       "      <td>0</td>\n",
       "      <td>1</td>\n",
       "      <td>1</td>\n",
       "      <td>0</td>\n",
       "    </tr>\n",
       "  </tbody>\n",
       "</table>\n",
       "</div>"
      ],
      "text/plain": [
       "         1-2  2-3  3-4  4-5\n",
       "Alan       1    1    1    1\n",
       "Kirsten    1    1    1    0\n",
       "Sophia     0    1    1    0"
      ]
     },
     "execution_count": 209,
     "metadata": {},
     "output_type": "execute_result"
    }
   ],
   "source": [
    "# Each row is a school\n",
    "# Each column is a time slot\n",
    "mentor_availability = np.array([\n",
    "    [1, 1, 1, 1],\n",
    "    [1, 1, 1, 0],\n",
    "    [0, 1, 1, 0],\n",
    "])\n",
    "\n",
    "pd.DataFrame(mentor_availability, index=mentor_names, columns=time_slot_names)"
   ]
  },
  {
   "cell_type": "code",
   "execution_count": 210,
   "metadata": {},
   "outputs": [],
   "source": [
    "def has_two_hour_block(a):\n",
    "    for i in range(len(a) - 1):\n",
    "        if a[i] and a[i + 1]:\n",
    "            return int(1)\n",
    "    return int(0)"
   ]
  },
  {
   "cell_type": "code",
   "execution_count": 211,
   "metadata": {},
   "outputs": [
    {
     "data": {
      "text/html": [
       "<div>\n",
       "<style scoped>\n",
       "    .dataframe tbody tr th:only-of-type {\n",
       "        vertical-align: middle;\n",
       "    }\n",
       "\n",
       "    .dataframe tbody tr th {\n",
       "        vertical-align: top;\n",
       "    }\n",
       "\n",
       "    .dataframe thead th {\n",
       "        text-align: right;\n",
       "    }\n",
       "</style>\n",
       "<table border=\"1\" class=\"dataframe\">\n",
       "  <thead>\n",
       "    <tr style=\"text-align: right;\">\n",
       "      <th></th>\n",
       "      <th>Alan</th>\n",
       "      <th>Kirsten</th>\n",
       "      <th>Sophia</th>\n",
       "    </tr>\n",
       "  </thead>\n",
       "  <tbody>\n",
       "    <tr>\n",
       "      <th>Hayward</th>\n",
       "      <td>1</td>\n",
       "      <td>1</td>\n",
       "      <td>0</td>\n",
       "    </tr>\n",
       "    <tr>\n",
       "      <th>Albany</th>\n",
       "      <td>1</td>\n",
       "      <td>1</td>\n",
       "      <td>1</td>\n",
       "    </tr>\n",
       "  </tbody>\n",
       "</table>\n",
       "</div>"
      ],
      "text/plain": [
       "         Alan  Kirsten  Sophia\n",
       "Hayward     1        1       0\n",
       "Albany      1        1       1"
      ]
     },
     "execution_count": 211,
     "metadata": {},
     "output_type": "execute_result"
    }
   ],
   "source": [
    "compatability = np.zeros((num_schools, num_mentors))\n",
    "for school_index in range(num_schools):\n",
    "    for mentor_index in range(num_mentors):\n",
    "        mutual_availability = school_availability[school_index] * mentor_availability[mentor_index]\n",
    "        compatability[school_index, mentor_index] = has_two_hour_block(mutual_availability)\n",
    "\n",
    "pd.DataFrame(compatability, index=school_names, columns=mentor_names).astype(int)"
   ]
  },
  {
   "cell_type": "markdown",
   "metadata": {},
   "source": [
    "A value of 1 at `assignments[i][j]` means that the ith school and jth mentor are matched."
   ]
  },
  {
   "cell_type": "code",
   "execution_count": 212,
   "metadata": {},
   "outputs": [],
   "source": [
    "assignments = cvx.Variable(\n",
    "    (num_schools, num_mentors), boolean=True)"
   ]
  },
  {
   "cell_type": "markdown",
   "metadata": {},
   "source": [
    "\n",
    "# Constraints\n",
    "\n",
    "We now implement the constraints.\n",
    "\n",
    "All schools must have at least one mentor."
   ]
  },
  {
   "cell_type": "code",
   "execution_count": 213,
   "metadata": {},
   "outputs": [],
   "source": [
    "constraints = []\n",
    "for school_index in range(num_schools):\n",
    "    constraints.append(sum(assignments[school_index]) >= 1)"
   ]
  },
  {
   "cell_type": "markdown",
   "metadata": {},
   "source": [
    "All mentors must have exactly one school."
   ]
  },
  {
   "cell_type": "code",
   "execution_count": 214,
   "metadata": {},
   "outputs": [],
   "source": [
    "for mentor_index in range(num_mentors):\n",
    "    num_schools_for_mentor = 0\n",
    "    for school_index in range(num_schools): \n",
    "        num_schools_for_mentor += assignments[school_index, mentor_index]\n",
    "    constraints.append(num_schools_for_mentor == 1)"
   ]
  },
  {
   "cell_type": "markdown",
   "metadata": {},
   "source": [
    "A mentor who is a assigned to a school must have at least a 2 hour block of availability in common with the school"
   ]
  },
  {
   "cell_type": "code",
   "execution_count": 215,
   "metadata": {},
   "outputs": [],
   "source": [
    "for mentor_index in range(num_mentors):\n",
    "    for school_index in range(num_schools): \n",
    "        a = assignments[school_index, mentor_index]\n",
    "        c = compatability[school_index, mentor_index]\n",
    "        # not assigned or is compatible\n",
    "        condition = (1-a) + c >= 0.5\n",
    "        constraints.append(condition)"
   ]
  },
  {
   "cell_type": "markdown",
   "metadata": {},
   "source": [
    "# Optimization\n",
    "\n",
    "Each possible answer for the pairing of school and mentors has a score. The score is the sum of the point values for each of the mentor-school assignments. The algorithm seeks to maximize the score without violating any constraints.\n",
    "\n",
    "By default, each mentor-school assignment is worth 100 points. Assigning Sophia to Hayward would increase the score by 100 points. If we want to encourage the algorithm to make a particular assignment, we can increase its score.\n",
    "\n",
    "    > weights[\"Alan\"][\"Hayward\"] = 500\n",
    "    \n",
    "If we want to always have the algorithm choose a certain assignment, we can assign it a point value of a large number like $10^{10}$. The algorithm will choose this assignment unless it violates constraints or there are alternatives with equally high point values."
   ]
  },
  {
   "cell_type": "code",
   "execution_count": 216,
   "metadata": {},
   "outputs": [
    {
     "data": {
      "text/html": [
       "<div>\n",
       "<style scoped>\n",
       "    .dataframe tbody tr th:only-of-type {\n",
       "        vertical-align: middle;\n",
       "    }\n",
       "\n",
       "    .dataframe tbody tr th {\n",
       "        vertical-align: top;\n",
       "    }\n",
       "\n",
       "    .dataframe thead th {\n",
       "        text-align: right;\n",
       "    }\n",
       "</style>\n",
       "<table border=\"1\" class=\"dataframe\">\n",
       "  <thead>\n",
       "    <tr style=\"text-align: right;\">\n",
       "      <th></th>\n",
       "      <th>Alan</th>\n",
       "      <th>Kirsten</th>\n",
       "      <th>Sophia</th>\n",
       "    </tr>\n",
       "  </thead>\n",
       "  <tbody>\n",
       "    <tr>\n",
       "      <th>Hayward</th>\n",
       "      <td>100.0</td>\n",
       "      <td>100.0</td>\n",
       "      <td>100.0</td>\n",
       "    </tr>\n",
       "    <tr>\n",
       "      <th>Albany</th>\n",
       "      <td>100.0</td>\n",
       "      <td>100.0</td>\n",
       "      <td>100.0</td>\n",
       "    </tr>\n",
       "  </tbody>\n",
       "</table>\n",
       "</div>"
      ],
      "text/plain": [
       "          Alan  Kirsten  Sophia\n",
       "Hayward  100.0    100.0   100.0\n",
       "Albany   100.0    100.0   100.0"
      ]
     },
     "execution_count": 216,
     "metadata": {},
     "output_type": "execute_result"
    }
   ],
   "source": [
    "BIG = 10**10\n",
    "\n",
    "weights = pd.DataFrame(\n",
    "    np.ones((num_schools, num_mentors)) * 100,\n",
    "    index=school_names,\n",
    "    columns=mentor_names)\n",
    "weights"
   ]
  },
  {
   "cell_type": "code",
   "execution_count": 217,
   "metadata": {},
   "outputs": [],
   "source": [
    "# More weight adjustments here\n",
    "# weights[\"Alan\"][\"Hayward\"] = 500"
   ]
  },
  {
   "cell_type": "code",
   "execution_count": 218,
   "metadata": {},
   "outputs": [],
   "source": [
    "score = cvx.sum(cvx.multiply(weights, assignments))"
   ]
  },
  {
   "cell_type": "markdown",
   "metadata": {},
   "source": [
    "# Solving and Results"
   ]
  },
  {
   "cell_type": "code",
   "execution_count": 219,
   "metadata": {},
   "outputs": [
    {
     "name": "stdout",
     "output_type": "stream",
     "text": [
      "score:  700.0000000797754\n"
     ]
    },
    {
     "data": {
      "text/html": [
       "<div>\n",
       "<style scoped>\n",
       "    .dataframe tbody tr th:only-of-type {\n",
       "        vertical-align: middle;\n",
       "    }\n",
       "\n",
       "    .dataframe tbody tr th {\n",
       "        vertical-align: top;\n",
       "    }\n",
       "\n",
       "    .dataframe thead th {\n",
       "        text-align: right;\n",
       "    }\n",
       "</style>\n",
       "<table border=\"1\" class=\"dataframe\">\n",
       "  <thead>\n",
       "    <tr style=\"text-align: right;\">\n",
       "      <th></th>\n",
       "      <th>Alan</th>\n",
       "      <th>Kirsten</th>\n",
       "      <th>Sophia</th>\n",
       "    </tr>\n",
       "  </thead>\n",
       "  <tbody>\n",
       "    <tr>\n",
       "      <th>Hayward</th>\n",
       "      <td>True</td>\n",
       "      <td>False</td>\n",
       "      <td>False</td>\n",
       "    </tr>\n",
       "    <tr>\n",
       "      <th>Albany</th>\n",
       "      <td>False</td>\n",
       "      <td>True</td>\n",
       "      <td>True</td>\n",
       "    </tr>\n",
       "  </tbody>\n",
       "</table>\n",
       "</div>"
      ],
      "text/plain": [
       "          Alan  Kirsten  Sophia\n",
       "Hayward   True    False   False\n",
       "Albany   False     True    True"
      ]
     },
     "execution_count": 219,
     "metadata": {},
     "output_type": "execute_result"
    }
   ],
   "source": [
    "objective = cvx.Maximize(score)\n",
    "problem = cvx.Problem(objective, constraints)\n",
    "\n",
    "score = problem.solve()\n",
    "print(\"score: \", score)\n",
    "\n",
    "pd.DataFrame(\n",
    "    assignments.value > 0.5,\n",
    "    index=school_names,\n",
    "    columns=mentor_names\n",
    ")"
   ]
  },
  {
   "cell_type": "markdown",
   "metadata": {},
   "source": [
    "# Verification\n",
    "\n",
    "We print here the mentors for each school and each mentors availability with that school."
   ]
  },
  {
   "cell_type": "code",
   "execution_count": 220,
   "metadata": {},
   "outputs": [
    {
     "name": "stdout",
     "output_type": "stream",
     "text": [
      "\n",
      "Hayward\n"
     ]
    },
    {
     "data": {
      "text/html": [
       "<div>\n",
       "<style scoped>\n",
       "    .dataframe tbody tr th:only-of-type {\n",
       "        vertical-align: middle;\n",
       "    }\n",
       "\n",
       "    .dataframe tbody tr th {\n",
       "        vertical-align: top;\n",
       "    }\n",
       "\n",
       "    .dataframe thead th {\n",
       "        text-align: right;\n",
       "    }\n",
       "</style>\n",
       "<table border=\"1\" class=\"dataframe\">\n",
       "  <thead>\n",
       "    <tr style=\"text-align: right;\">\n",
       "      <th></th>\n",
       "      <th>1-2</th>\n",
       "      <th>2-3</th>\n",
       "      <th>3-4</th>\n",
       "      <th>4-5</th>\n",
       "    </tr>\n",
       "  </thead>\n",
       "  <tbody>\n",
       "    <tr>\n",
       "      <th>Hayward</th>\n",
       "      <td>1</td>\n",
       "      <td>1</td>\n",
       "      <td>0</td>\n",
       "      <td>0</td>\n",
       "    </tr>\n",
       "    <tr>\n",
       "      <th>Alan</th>\n",
       "      <td>1</td>\n",
       "      <td>1</td>\n",
       "      <td>0</td>\n",
       "      <td>0</td>\n",
       "    </tr>\n",
       "  </tbody>\n",
       "</table>\n",
       "</div>"
      ],
      "text/plain": [
       "         1-2  2-3  3-4  4-5\n",
       "Hayward    1    1    0    0\n",
       "Alan       1    1    0    0"
      ]
     },
     "metadata": {},
     "output_type": "display_data"
    },
    {
     "name": "stdout",
     "output_type": "stream",
     "text": [
      "\n",
      "Albany\n"
     ]
    },
    {
     "data": {
      "text/html": [
       "<div>\n",
       "<style scoped>\n",
       "    .dataframe tbody tr th:only-of-type {\n",
       "        vertical-align: middle;\n",
       "    }\n",
       "\n",
       "    .dataframe tbody tr th {\n",
       "        vertical-align: top;\n",
       "    }\n",
       "\n",
       "    .dataframe thead th {\n",
       "        text-align: right;\n",
       "    }\n",
       "</style>\n",
       "<table border=\"1\" class=\"dataframe\">\n",
       "  <thead>\n",
       "    <tr style=\"text-align: right;\">\n",
       "      <th></th>\n",
       "      <th>1-2</th>\n",
       "      <th>2-3</th>\n",
       "      <th>3-4</th>\n",
       "      <th>4-5</th>\n",
       "    </tr>\n",
       "  </thead>\n",
       "  <tbody>\n",
       "    <tr>\n",
       "      <th>Albany</th>\n",
       "      <td>0</td>\n",
       "      <td>1</td>\n",
       "      <td>1</td>\n",
       "      <td>1</td>\n",
       "    </tr>\n",
       "    <tr>\n",
       "      <th>Kirsten</th>\n",
       "      <td>0</td>\n",
       "      <td>1</td>\n",
       "      <td>1</td>\n",
       "      <td>0</td>\n",
       "    </tr>\n",
       "    <tr>\n",
       "      <th>Sophia</th>\n",
       "      <td>0</td>\n",
       "      <td>1</td>\n",
       "      <td>1</td>\n",
       "      <td>0</td>\n",
       "    </tr>\n",
       "  </tbody>\n",
       "</table>\n",
       "</div>"
      ],
      "text/plain": [
       "         1-2  2-3  3-4  4-5\n",
       "Albany     0    1    1    1\n",
       "Kirsten    0    1    1    0\n",
       "Sophia     0    1    1    0"
      ]
     },
     "metadata": {},
     "output_type": "display_data"
    }
   ],
   "source": [
    "for school_index in range(num_schools):\n",
    "    school_name = school_names[school_index]\n",
    "    print()\n",
    "    print(school_name)\n",
    "    school_mentor_names = [school_name]\n",
    "    mutual_availabilities = [school_availability[school_index]]\n",
    "    for mentor_index in range(num_mentors):\n",
    "        if assignments.value[school_index][mentor_index] > 0.5:\n",
    "            school_mentor_names.append(mentor_names[mentor_index])\n",
    "            mutual_availability = mentor_availability[mentor_index] * school_availability[school_index]\n",
    "            mutual_availabilities.append(mutual_availability)\n",
    "    combo = np.vstack(mutual_availabilities)\n",
    "    display(pd.DataFrame(combo, index=school_mentor_names, columns=time_slot_names))"
   ]
  }
 ],
 "metadata": {
  "kernelspec": {
   "display_name": "Python 3",
   "language": "python",
   "name": "python3"
  },
  "language_info": {
   "codemirror_mode": {
    "name": "ipython",
    "version": 3
   },
   "file_extension": ".py",
   "mimetype": "text/x-python",
   "name": "python",
   "nbconvert_exporter": "python",
   "pygments_lexer": "ipython3",
   "version": "3.7.2"
  }
 },
 "nbformat": 4,
 "nbformat_minor": 2
}
