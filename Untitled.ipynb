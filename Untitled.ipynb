{
 "cells": [
  {
   "cell_type": "code",
   "execution_count": 115,
   "metadata": {},
   "outputs": [],
   "source": [
    "import numpy as np\n",
    "import cvxpy as cvx"
   ]
  },
  {
   "cell_type": "code",
   "execution_count": 116,
   "metadata": {},
   "outputs": [],
   "source": [
    "num_mentors = 3\n",
    "num_schools = 2\n",
    "num_time_slots = 4"
   ]
  },
  {
   "cell_type": "code",
   "execution_count": 117,
   "metadata": {},
   "outputs": [],
   "source": [
    "# Each row is a school\n",
    "# Each column is a time slot\n",
    "school_availability = np.array([\n",
    "    [1, 0, 1, 0],\n",
    "    [0, 1, 1, 1],\n",
    "])\n",
    "\n",
    "# Each row is a school\n",
    "# Each column is a time slot\n",
    "mentor_availability = np.array([\n",
    "    [1, 1, 1, 1],\n",
    "    [0, 1, 1, 0],\n",
    "    [0, 1, 0, 0],\n",
    "])"
   ]
  },
  {
   "cell_type": "markdown",
   "metadata": {},
   "source": [
    "The product below is a compability matrix. A value of 3 in the ith row and jth column means that the ith school and the jth mentor have 3 time slots in common."
   ]
  },
  {
   "cell_type": "code",
   "execution_count": 118,
   "metadata": {},
   "outputs": [
    {
     "data": {
      "text/plain": [
       "array([[2, 1, 0],\n",
       "       [3, 2, 1]])"
      ]
     },
     "execution_count": 118,
     "metadata": {},
     "output_type": "execute_result"
    }
   ],
   "source": [
    "compatability = np.dot(school_availability, mentor_availability.T)\n",
    "compatability"
   ]
  },
  {
   "cell_type": "markdown",
   "metadata": {},
   "source": [
    "A value of 1 at `assignments[i][j]` means that the ith school and jth mentor are matched."
   ]
  },
  {
   "cell_type": "code",
   "execution_count": 119,
   "metadata": {},
   "outputs": [],
   "source": [
    "assignments = cvx.Variable(\n",
    "    (num_schools, num_mentors), boolean=True)"
   ]
  },
  {
   "cell_type": "markdown",
   "metadata": {},
   "source": [
    "The following expression shows how many overlapping time slots the ith school and jth mentor have."
   ]
  },
  {
   "cell_type": "code",
   "execution_count": 120,
   "metadata": {},
   "outputs": [
    {
     "data": {
      "text/plain": [
       "Expression(AFFINE, NONNEGATIVE, (2, 3))"
      ]
     },
     "execution_count": 120,
     "metadata": {},
     "output_type": "execute_result"
    }
   ],
   "source": [
    "cvx.multiply(assignments, compatability)"
   ]
  },
  {
   "cell_type": "markdown",
   "metadata": {},
   "source": [
    "# Constraints\n",
    "\n",
    "We now implement the constraints. First all schools must have at least one mentor."
   ]
  },
  {
   "cell_type": "code",
   "execution_count": 121,
   "metadata": {},
   "outputs": [],
   "source": [
    "constraints = []\n",
    "for school_index in range(num_schools):\n",
    "    constraints.append(sum(assignments[school_index]) >= 1)"
   ]
  },
  {
   "cell_type": "markdown",
   "metadata": {},
   "source": [
    "Second, all mentors must have exactly one school."
   ]
  },
  {
   "cell_type": "code",
   "execution_count": 122,
   "metadata": {},
   "outputs": [],
   "source": [
    "for mentor_index in range(num_mentors):\n",
    "    num_schools_for_mentor = 0\n",
    "    for school_index in range(num_schools): \n",
    "        num_schools_for_mentor += assignments[school_index, mentor_index]\n",
    "    constraints.append(num_schools_for_mentor == 1)"
   ]
  },
  {
   "cell_type": "code",
   "execution_count": 123,
   "metadata": {},
   "outputs": [
    {
     "data": {
      "text/plain": [
       "[Inequality(Constant(CONSTANT, NONNEGATIVE, ())),\n",
       " Inequality(Constant(CONSTANT, NONNEGATIVE, ())),\n",
       " Equality(Expression(AFFINE, NONNEGATIVE, ()), Constant(CONSTANT, NONNEGATIVE, ())),\n",
       " Equality(Expression(AFFINE, NONNEGATIVE, ()), Constant(CONSTANT, NONNEGATIVE, ())),\n",
       " Equality(Expression(AFFINE, NONNEGATIVE, ()), Constant(CONSTANT, NONNEGATIVE, ()))]"
      ]
     },
     "execution_count": 123,
     "metadata": {},
     "output_type": "execute_result"
    }
   ],
   "source": [
    "constraints"
   ]
  },
  {
   "cell_type": "markdown",
   "metadata": {},
   "source": [
    "# Optimization\n",
    "\n",
    "We will try to maximize the number of mentors that each school receives. \n",
    "\n",
    "`mentor_num_score` rewards the computer $\\sqrt{n} * 100$ points for each school with n mentors. The key here is that there is diminishing returns for each additional mentor added. This encourages giving every school at least one mentor, then at least two mentors, and so on."
   ]
  },
  {
   "cell_type": "code",
   "execution_count": 124,
   "metadata": {},
   "outputs": [],
   "source": [
    "def mentor_num_score(num_mentors):\n",
    "    \"\"\"Subjectively assign value to the number of mentors a school has\"\"\"\n",
    "    return num_mentors\n"
   ]
  },
  {
   "cell_type": "code",
   "execution_count": 125,
   "metadata": {},
   "outputs": [],
   "source": [
    "score = 0\n",
    "for school_index in range(num_schools):\n",
    "    school = school_availability[school_index]\n",
    "\n",
    "    # num_mentors_at_time_slot records the number of a school's assigned mentors\n",
    "    # that can be present at each time slot\n",
    "    num_mentors_at_time_slot = np.zeros(num_time_slots)\n",
    "\n",
    "    for mentor_index in range(num_mentors):\n",
    "\n",
    "        # mututal_mentor_school_availability records the time slots that work for\n",
    "        # both this mentor and this school\n",
    "        mutual_mentor_school_availability = mentor_availability[mentor_index] * school\n",
    "        \n",
    "        mentor_paired_with_school = assignments[school_index][mentor_index]\n",
    "        num_mentors_at_time_slot += mutual_mentor_school_availability * mentor_paired_with_school\n",
    "\n",
    "    # greatest_num_concurrent_mentors is the max number of assigned mentors that can be present \n",
    "    # at a single mentoring session\n",
    "    greatest_num_concurrent_mentors = cvx.max(num_mentors_at_time_slot)\n",
    "    score += mentor_num_score(greatest_num_concurrent_mentors)\n",
    "    "
   ]
  },
  {
   "cell_type": "code",
   "execution_count": 137,
   "metadata": {},
   "outputs": [
    {
     "data": {
      "text/plain": [
       "Expression(AFFINE, NONNEGATIVE, (2, 3))"
      ]
     },
     "execution_count": 137,
     "metadata": {},
     "output_type": "execute_result"
    }
   ],
   "source": [
    "assignments * 5"
   ]
  },
  {
   "cell_type": "code",
   "execution_count": 139,
   "metadata": {},
   "outputs": [
    {
     "data": {
      "text/plain": [
       "Expression(CONVEX, NONNEGATIVE, ())"
      ]
     },
     "execution_count": 139,
     "metadata": {},
     "output_type": "execute_result"
    }
   ],
   "source": [
    "cvx.max(assignments * 5)"
   ]
  },
  {
   "cell_type": "code",
   "execution_count": 140,
   "metadata": {},
   "outputs": [
    {
     "data": {
      "text/plain": [
       "Expression(CONVEX, NONNEGATIVE, ())"
      ]
     },
     "execution_count": 140,
     "metadata": {},
     "output_type": "execute_result"
    }
   ],
   "source": [
    "score"
   ]
  },
  {
   "cell_type": "code",
   "execution_count": 127,
   "metadata": {},
   "outputs": [],
   "source": [
    "objective = cvx.Minimize(score)"
   ]
  },
  {
   "cell_type": "code",
   "execution_count": 128,
   "metadata": {},
   "outputs": [],
   "source": [
    "problem = cvx.Problem(objective, constraints)"
   ]
  },
  {
   "cell_type": "code",
   "execution_count": 129,
   "metadata": {},
   "outputs": [
    {
     "data": {
      "text/plain": [
       "1.9999999999811464"
      ]
     },
     "execution_count": 129,
     "metadata": {},
     "output_type": "execute_result"
    }
   ],
   "source": [
    "problem.solve()"
   ]
  },
  {
   "cell_type": "code",
   "execution_count": 131,
   "metadata": {},
   "outputs": [
    {
     "data": {
      "text/plain": [
       "array([[ True, False,  True],\n",
       "       [False,  True, False]])"
      ]
     },
     "execution_count": 131,
     "metadata": {},
     "output_type": "execute_result"
    }
   ],
   "source": [
    "assignments.value > 0.5"
   ]
  }
 ],
 "metadata": {
  "kernelspec": {
   "display_name": "Python 3",
   "language": "python",
   "name": "python3"
  },
  "language_info": {
   "codemirror_mode": {
    "name": "ipython",
    "version": 3
   },
   "file_extension": ".py",
   "mimetype": "text/x-python",
   "name": "python",
   "nbconvert_exporter": "python",
   "pygments_lexer": "ipython3",
   "version": "3.7.2"
  }
 },
 "nbformat": 4,
 "nbformat_minor": 2
}
